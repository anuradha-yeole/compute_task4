{
  "cells": [
    {
      "cell_type": "code",
      "execution_count": null,
      "id": "f3e598a8",
      "metadata": {
        "id": "f3e598a8"
      },
      "outputs": [],
      "source": [
        "import pandas as pd\n",
        "import numpy as np\n",
        "import statsmodels.api as sm\n",
        "import scipy.stats as st\n",
        "import matplotlib.pyplot as plt\n",
        "import seaborn as sn\n",
        "from sklearn.metrics import confusion_matrix\n",
        "import matplotlib.mlab as mlab\n",
        "%matplotlib inline"
      ]
    },
    {
      "cell_type": "markdown",
      "source": [
        "###Q1 Import the dataset and try to understand what information each column is giving. What is our target variable? Is this a classification or regression problem?\n",
        "\n",
        "Dataset link: https://drive.google.com/file/d/1A-iAsI3MUU6o9oh5AE1NG1kVU5KD60Ms/view?usp=sharing\n"
      ],
      "metadata": {
        "id": "lpvkZBRBTjWy"
      },
      "id": "lpvkZBRBTjWy"
    },
    {
      "cell_type": "code",
      "source": [
        "#Import dataset\n",
        "df=pd.read_csv('heart_study.csv')"
      ],
      "metadata": {
        "id": "Tk7yD3E2bPct"
      },
      "id": "Tk7yD3E2bPct",
      "execution_count": null,
      "outputs": []
    },
    {
      "cell_type": "code",
      "source": [
        "df.info()"
      ],
      "metadata": {
        "id": "rtq8e01GZTb9",
        "outputId": "91b07f19-4eee-4654-8f68-4ead31f1fc89",
        "colab": {
          "base_uri": "https://localhost:8080/"
        }
      },
      "id": "rtq8e01GZTb9",
      "execution_count": null,
      "outputs": [
        {
          "output_type": "stream",
          "name": "stdout",
          "text": [
            "<class 'pandas.core.frame.DataFrame'>\n",
            "RangeIndex: 4240 entries, 0 to 4239\n",
            "Data columns (total 16 columns):\n",
            " #   Column           Non-Null Count  Dtype  \n",
            "---  ------           --------------  -----  \n",
            " 0   male             4240 non-null   int64  \n",
            " 1   age              4240 non-null   int64  \n",
            " 2   education        4135 non-null   float64\n",
            " 3   currentSmoker    4240 non-null   int64  \n",
            " 4   cigsPerDay       4211 non-null   float64\n",
            " 5   BPMeds           4187 non-null   float64\n",
            " 6   prevalentStroke  4240 non-null   int64  \n",
            " 7   prevalentHyp     4240 non-null   int64  \n",
            " 8   diabetes         4240 non-null   int64  \n",
            " 9   totChol          4190 non-null   float64\n",
            " 10  sysBP            4240 non-null   float64\n",
            " 11  diaBP            4240 non-null   float64\n",
            " 12  BMI              4221 non-null   float64\n",
            " 13  heartRate        4239 non-null   float64\n",
            " 14  glucose          3852 non-null   float64\n",
            " 15  TenYearCHD       4240 non-null   int64  \n",
            "dtypes: float64(9), int64(7)\n",
            "memory usage: 530.1 KB\n"
          ]
        }
      ]
    },
    {
      "cell_type": "code",
      "source": [
        "df.describe()"
      ],
      "metadata": {
        "id": "bzsCfC8Ca7y5",
        "outputId": "b2cc0293-de4c-497a-9fd0-97205e90d481",
        "colab": {
          "base_uri": "https://localhost:8080/",
          "height": 364
        }
      },
      "id": "bzsCfC8Ca7y5",
      "execution_count": null,
      "outputs": [
        {
          "output_type": "execute_result",
          "data": {
            "text/plain": [
              "              male          age    education  currentSmoker   cigsPerDay  \\\n",
              "count  4240.000000  4240.000000  4135.000000    4240.000000  4211.000000   \n",
              "mean      0.429245    49.580189     1.979444       0.494104     9.005937   \n",
              "std       0.495027     8.572942     1.019791       0.500024    11.922462   \n",
              "min       0.000000    32.000000     1.000000       0.000000     0.000000   \n",
              "25%       0.000000    42.000000     1.000000       0.000000     0.000000   \n",
              "50%       0.000000    49.000000     2.000000       0.000000     0.000000   \n",
              "75%       1.000000    56.000000     3.000000       1.000000    20.000000   \n",
              "max       1.000000    70.000000     4.000000       1.000000    70.000000   \n",
              "\n",
              "            BPMeds  prevalentStroke  prevalentHyp     diabetes      totChol  \\\n",
              "count  4187.000000      4240.000000   4240.000000  4240.000000  4190.000000   \n",
              "mean      0.029615         0.005896      0.310613     0.025708   236.699523   \n",
              "std       0.169544         0.076569      0.462799     0.158280    44.591284   \n",
              "min       0.000000         0.000000      0.000000     0.000000   107.000000   \n",
              "25%       0.000000         0.000000      0.000000     0.000000   206.000000   \n",
              "50%       0.000000         0.000000      0.000000     0.000000   234.000000   \n",
              "75%       0.000000         0.000000      1.000000     0.000000   263.000000   \n",
              "max       1.000000         1.000000      1.000000     1.000000   696.000000   \n",
              "\n",
              "             sysBP        diaBP          BMI    heartRate      glucose  \\\n",
              "count  4240.000000  4240.000000  4221.000000  4239.000000  3852.000000   \n",
              "mean    132.354599    82.897759    25.800801    75.878981    81.963655   \n",
              "std      22.033300    11.910394     4.079840    12.025348    23.954335   \n",
              "min      83.500000    48.000000    15.540000    44.000000    40.000000   \n",
              "25%     117.000000    75.000000    23.070000    68.000000    71.000000   \n",
              "50%     128.000000    82.000000    25.400000    75.000000    78.000000   \n",
              "75%     144.000000    90.000000    28.040000    83.000000    87.000000   \n",
              "max     295.000000   142.500000    56.800000   143.000000   394.000000   \n",
              "\n",
              "        TenYearCHD  \n",
              "count  4240.000000  \n",
              "mean      0.151887  \n",
              "std       0.358953  \n",
              "min       0.000000  \n",
              "25%       0.000000  \n",
              "50%       0.000000  \n",
              "75%       0.000000  \n",
              "max       1.000000  "
            ],
            "text/html": [
              "\n",
              "  <div id=\"df-d7cb4ea1-2e89-4be2-bcc2-e4b16aeb74cd\">\n",
              "    <div class=\"colab-df-container\">\n",
              "      <div>\n",
              "<style scoped>\n",
              "    .dataframe tbody tr th:only-of-type {\n",
              "        vertical-align: middle;\n",
              "    }\n",
              "\n",
              "    .dataframe tbody tr th {\n",
              "        vertical-align: top;\n",
              "    }\n",
              "\n",
              "    .dataframe thead th {\n",
              "        text-align: right;\n",
              "    }\n",
              "</style>\n",
              "<table border=\"1\" class=\"dataframe\">\n",
              "  <thead>\n",
              "    <tr style=\"text-align: right;\">\n",
              "      <th></th>\n",
              "      <th>male</th>\n",
              "      <th>age</th>\n",
              "      <th>education</th>\n",
              "      <th>currentSmoker</th>\n",
              "      <th>cigsPerDay</th>\n",
              "      <th>BPMeds</th>\n",
              "      <th>prevalentStroke</th>\n",
              "      <th>prevalentHyp</th>\n",
              "      <th>diabetes</th>\n",
              "      <th>totChol</th>\n",
              "      <th>sysBP</th>\n",
              "      <th>diaBP</th>\n",
              "      <th>BMI</th>\n",
              "      <th>heartRate</th>\n",
              "      <th>glucose</th>\n",
              "      <th>TenYearCHD</th>\n",
              "    </tr>\n",
              "  </thead>\n",
              "  <tbody>\n",
              "    <tr>\n",
              "      <th>count</th>\n",
              "      <td>4240.000000</td>\n",
              "      <td>4240.000000</td>\n",
              "      <td>4135.000000</td>\n",
              "      <td>4240.000000</td>\n",
              "      <td>4211.000000</td>\n",
              "      <td>4187.000000</td>\n",
              "      <td>4240.000000</td>\n",
              "      <td>4240.000000</td>\n",
              "      <td>4240.000000</td>\n",
              "      <td>4190.000000</td>\n",
              "      <td>4240.000000</td>\n",
              "      <td>4240.000000</td>\n",
              "      <td>4221.000000</td>\n",
              "      <td>4239.000000</td>\n",
              "      <td>3852.000000</td>\n",
              "      <td>4240.000000</td>\n",
              "    </tr>\n",
              "    <tr>\n",
              "      <th>mean</th>\n",
              "      <td>0.429245</td>\n",
              "      <td>49.580189</td>\n",
              "      <td>1.979444</td>\n",
              "      <td>0.494104</td>\n",
              "      <td>9.005937</td>\n",
              "      <td>0.029615</td>\n",
              "      <td>0.005896</td>\n",
              "      <td>0.310613</td>\n",
              "      <td>0.025708</td>\n",
              "      <td>236.699523</td>\n",
              "      <td>132.354599</td>\n",
              "      <td>82.897759</td>\n",
              "      <td>25.800801</td>\n",
              "      <td>75.878981</td>\n",
              "      <td>81.963655</td>\n",
              "      <td>0.151887</td>\n",
              "    </tr>\n",
              "    <tr>\n",
              "      <th>std</th>\n",
              "      <td>0.495027</td>\n",
              "      <td>8.572942</td>\n",
              "      <td>1.019791</td>\n",
              "      <td>0.500024</td>\n",
              "      <td>11.922462</td>\n",
              "      <td>0.169544</td>\n",
              "      <td>0.076569</td>\n",
              "      <td>0.462799</td>\n",
              "      <td>0.158280</td>\n",
              "      <td>44.591284</td>\n",
              "      <td>22.033300</td>\n",
              "      <td>11.910394</td>\n",
              "      <td>4.079840</td>\n",
              "      <td>12.025348</td>\n",
              "      <td>23.954335</td>\n",
              "      <td>0.358953</td>\n",
              "    </tr>\n",
              "    <tr>\n",
              "      <th>min</th>\n",
              "      <td>0.000000</td>\n",
              "      <td>32.000000</td>\n",
              "      <td>1.000000</td>\n",
              "      <td>0.000000</td>\n",
              "      <td>0.000000</td>\n",
              "      <td>0.000000</td>\n",
              "      <td>0.000000</td>\n",
              "      <td>0.000000</td>\n",
              "      <td>0.000000</td>\n",
              "      <td>107.000000</td>\n",
              "      <td>83.500000</td>\n",
              "      <td>48.000000</td>\n",
              "      <td>15.540000</td>\n",
              "      <td>44.000000</td>\n",
              "      <td>40.000000</td>\n",
              "      <td>0.000000</td>\n",
              "    </tr>\n",
              "    <tr>\n",
              "      <th>25%</th>\n",
              "      <td>0.000000</td>\n",
              "      <td>42.000000</td>\n",
              "      <td>1.000000</td>\n",
              "      <td>0.000000</td>\n",
              "      <td>0.000000</td>\n",
              "      <td>0.000000</td>\n",
              "      <td>0.000000</td>\n",
              "      <td>0.000000</td>\n",
              "      <td>0.000000</td>\n",
              "      <td>206.000000</td>\n",
              "      <td>117.000000</td>\n",
              "      <td>75.000000</td>\n",
              "      <td>23.070000</td>\n",
              "      <td>68.000000</td>\n",
              "      <td>71.000000</td>\n",
              "      <td>0.000000</td>\n",
              "    </tr>\n",
              "    <tr>\n",
              "      <th>50%</th>\n",
              "      <td>0.000000</td>\n",
              "      <td>49.000000</td>\n",
              "      <td>2.000000</td>\n",
              "      <td>0.000000</td>\n",
              "      <td>0.000000</td>\n",
              "      <td>0.000000</td>\n",
              "      <td>0.000000</td>\n",
              "      <td>0.000000</td>\n",
              "      <td>0.000000</td>\n",
              "      <td>234.000000</td>\n",
              "      <td>128.000000</td>\n",
              "      <td>82.000000</td>\n",
              "      <td>25.400000</td>\n",
              "      <td>75.000000</td>\n",
              "      <td>78.000000</td>\n",
              "      <td>0.000000</td>\n",
              "    </tr>\n",
              "    <tr>\n",
              "      <th>75%</th>\n",
              "      <td>1.000000</td>\n",
              "      <td>56.000000</td>\n",
              "      <td>3.000000</td>\n",
              "      <td>1.000000</td>\n",
              "      <td>20.000000</td>\n",
              "      <td>0.000000</td>\n",
              "      <td>0.000000</td>\n",
              "      <td>1.000000</td>\n",
              "      <td>0.000000</td>\n",
              "      <td>263.000000</td>\n",
              "      <td>144.000000</td>\n",
              "      <td>90.000000</td>\n",
              "      <td>28.040000</td>\n",
              "      <td>83.000000</td>\n",
              "      <td>87.000000</td>\n",
              "      <td>0.000000</td>\n",
              "    </tr>\n",
              "    <tr>\n",
              "      <th>max</th>\n",
              "      <td>1.000000</td>\n",
              "      <td>70.000000</td>\n",
              "      <td>4.000000</td>\n",
              "      <td>1.000000</td>\n",
              "      <td>70.000000</td>\n",
              "      <td>1.000000</td>\n",
              "      <td>1.000000</td>\n",
              "      <td>1.000000</td>\n",
              "      <td>1.000000</td>\n",
              "      <td>696.000000</td>\n",
              "      <td>295.000000</td>\n",
              "      <td>142.500000</td>\n",
              "      <td>56.800000</td>\n",
              "      <td>143.000000</td>\n",
              "      <td>394.000000</td>\n",
              "      <td>1.000000</td>\n",
              "    </tr>\n",
              "  </tbody>\n",
              "</table>\n",
              "</div>\n",
              "      <button class=\"colab-df-convert\" onclick=\"convertToInteractive('df-d7cb4ea1-2e89-4be2-bcc2-e4b16aeb74cd')\"\n",
              "              title=\"Convert this dataframe to an interactive table.\"\n",
              "              style=\"display:none;\">\n",
              "        \n",
              "  <svg xmlns=\"http://www.w3.org/2000/svg\" height=\"24px\"viewBox=\"0 0 24 24\"\n",
              "       width=\"24px\">\n",
              "    <path d=\"M0 0h24v24H0V0z\" fill=\"none\"/>\n",
              "    <path d=\"M18.56 5.44l.94 2.06.94-2.06 2.06-.94-2.06-.94-.94-2.06-.94 2.06-2.06.94zm-11 1L8.5 8.5l.94-2.06 2.06-.94-2.06-.94L8.5 2.5l-.94 2.06-2.06.94zm10 10l.94 2.06.94-2.06 2.06-.94-2.06-.94-.94-2.06-.94 2.06-2.06.94z\"/><path d=\"M17.41 7.96l-1.37-1.37c-.4-.4-.92-.59-1.43-.59-.52 0-1.04.2-1.43.59L10.3 9.45l-7.72 7.72c-.78.78-.78 2.05 0 2.83L4 21.41c.39.39.9.59 1.41.59.51 0 1.02-.2 1.41-.59l7.78-7.78 2.81-2.81c.8-.78.8-2.07 0-2.86zM5.41 20L4 18.59l7.72-7.72 1.47 1.35L5.41 20z\"/>\n",
              "  </svg>\n",
              "      </button>\n",
              "      \n",
              "  <style>\n",
              "    .colab-df-container {\n",
              "      display:flex;\n",
              "      flex-wrap:wrap;\n",
              "      gap: 12px;\n",
              "    }\n",
              "\n",
              "    .colab-df-convert {\n",
              "      background-color: #E8F0FE;\n",
              "      border: none;\n",
              "      border-radius: 50%;\n",
              "      cursor: pointer;\n",
              "      display: none;\n",
              "      fill: #1967D2;\n",
              "      height: 32px;\n",
              "      padding: 0 0 0 0;\n",
              "      width: 32px;\n",
              "    }\n",
              "\n",
              "    .colab-df-convert:hover {\n",
              "      background-color: #E2EBFA;\n",
              "      box-shadow: 0px 1px 2px rgba(60, 64, 67, 0.3), 0px 1px 3px 1px rgba(60, 64, 67, 0.15);\n",
              "      fill: #174EA6;\n",
              "    }\n",
              "\n",
              "    [theme=dark] .colab-df-convert {\n",
              "      background-color: #3B4455;\n",
              "      fill: #D2E3FC;\n",
              "    }\n",
              "\n",
              "    [theme=dark] .colab-df-convert:hover {\n",
              "      background-color: #434B5C;\n",
              "      box-shadow: 0px 1px 3px 1px rgba(0, 0, 0, 0.15);\n",
              "      filter: drop-shadow(0px 1px 2px rgba(0, 0, 0, 0.3));\n",
              "      fill: #FFFFFF;\n",
              "    }\n",
              "  </style>\n",
              "\n",
              "      <script>\n",
              "        const buttonEl =\n",
              "          document.querySelector('#df-d7cb4ea1-2e89-4be2-bcc2-e4b16aeb74cd button.colab-df-convert');\n",
              "        buttonEl.style.display =\n",
              "          google.colab.kernel.accessAllowed ? 'block' : 'none';\n",
              "\n",
              "        async function convertToInteractive(key) {\n",
              "          const element = document.querySelector('#df-d7cb4ea1-2e89-4be2-bcc2-e4b16aeb74cd');\n",
              "          const dataTable =\n",
              "            await google.colab.kernel.invokeFunction('convertToInteractive',\n",
              "                                                     [key], {});\n",
              "          if (!dataTable) return;\n",
              "\n",
              "          const docLinkHtml = 'Like what you see? Visit the ' +\n",
              "            '<a target=\"_blank\" href=https://colab.research.google.com/notebooks/data_table.ipynb>data table notebook</a>'\n",
              "            + ' to learn more about interactive tables.';\n",
              "          element.innerHTML = '';\n",
              "          dataTable['output_type'] = 'display_data';\n",
              "          await google.colab.output.renderOutput(dataTable, element);\n",
              "          const docLink = document.createElement('div');\n",
              "          docLink.innerHTML = docLinkHtml;\n",
              "          element.appendChild(docLink);\n",
              "        }\n",
              "      </script>\n",
              "    </div>\n",
              "  </div>\n",
              "  "
            ]
          },
          "metadata": {},
          "execution_count": 5
        }
      ]
    },
    {
      "cell_type": "markdown",
      "source": [
        "sex : male or female (Nominal)\n",
        "\n",
        "age : age of the patient (Continuous)\n",
        "\n",
        "education: maximum level of education of the patient\n",
        "\n",
        "currentSmoker : whether or not the patient is a current smoker (Nominal)\n",
        "\n",
        "cigsPerDay : the number of cigarettes that the person smoked on average in one day (Continuous)\n",
        "\n",
        "BPMeds : whether or not the patient was on blood pressure medication (Nominal)\n",
        "\n",
        "prevalentStroke : whether or not the patient had previously had a stroke (Nominal)\n",
        "\n",
        "prevalentHyp : whether or not the patient was Hypertension (Nominal)\n",
        "\n",
        "diabetes : whether or not the patient had diabetes (Nominal)\n",
        "\n",
        "totChol : total cholesterol level (Continuous)\n",
        "\n",
        "sysBP : systolic blood pressure (Continuous)\n",
        "\n",
        "diaBP : diastolic blood pressure (Continuous)\n",
        "\n",
        "BMI : Body Mass Index (Continuous)\n",
        "\n",
        "heartRate : heart rate (Continuous)\n",
        "\n",
        "glucose : glucose level (Continuous)\n",
        "\n",
        "TenYearCHD : 10 year risk of Coronary Heart Disease (CHD) (binary: 1 (Yes), 0 (No))"
      ],
      "metadata": {
        "id": "xQCirxWhT03R"
      },
      "id": "xQCirxWhT03R"
    },
    {
      "cell_type": "markdown",
      "source": [
        "###Q2. Are there any columns which give information about something totally irrelevant to whether a person has a heart disease or not? If yes, drop the column. Also rename the column 'male' to 'sex_male'."
      ],
      "metadata": {
        "id": "W04MdijOULuY"
      },
      "id": "W04MdijOULuY"
    },
    {
      "cell_type": "code",
      "source": [
        "#drop and/or rename columns\n",
        "df=df.drop(['education'],axis=1)"
      ],
      "metadata": {
        "id": "-Tm933YkT2Tn"
      },
      "id": "-Tm933YkT2Tn",
      "execution_count": null,
      "outputs": []
    },
    {
      "cell_type": "code",
      "source": [
        "df.rename(columns={'male':'sex_male'},inplace=True)"
      ],
      "metadata": {
        "id": "FSZx1AobatMG"
      },
      "id": "FSZx1AobatMG",
      "execution_count": null,
      "outputs": []
    },
    {
      "cell_type": "markdown",
      "source": [
        "###Q3. Find the number of null values in each column and decide whether you can drop them or not. If you cannot drop them, use an appropriate method to deal with them"
      ],
      "metadata": {
        "id": "rJ8_1AZ6UmF6"
      },
      "id": "rJ8_1AZ6UmF6"
    },
    {
      "cell_type": "code",
      "source": [
        "#Deal with null values\n",
        "df.isnull().sum()"
      ],
      "metadata": {
        "id": "wT_73n8EbWmm",
        "outputId": "e431350e-ca45-4f26-dc39-fba7c19769ac",
        "colab": {
          "base_uri": "https://localhost:8080/"
        }
      },
      "id": "wT_73n8EbWmm",
      "execution_count": null,
      "outputs": [
        {
          "output_type": "execute_result",
          "data": {
            "text/plain": [
              "sex_male             0\n",
              "age                  0\n",
              "currentSmoker        0\n",
              "cigsPerDay          29\n",
              "BPMeds              53\n",
              "prevalentStroke      0\n",
              "prevalentHyp         0\n",
              "diabetes             0\n",
              "totChol             50\n",
              "sysBP                0\n",
              "diaBP                0\n",
              "BMI                 19\n",
              "heartRate            1\n",
              "glucose            388\n",
              "TenYearCHD           0\n",
              "dtype: int64"
            ]
          },
          "metadata": {},
          "execution_count": 8
        }
      ]
    },
    {
      "cell_type": "code",
      "source": [
        "ds = df.isin([np.inf, -np.inf])\n",
        "print(ds)"
      ],
      "metadata": {
        "id": "_JK8BhScmeZ0",
        "outputId": "8323e4a0-259f-44da-998e-6c665626ea71",
        "colab": {
          "base_uri": "https://localhost:8080/"
        }
      },
      "id": "_JK8BhScmeZ0",
      "execution_count": null,
      "outputs": [
        {
          "output_type": "stream",
          "name": "stdout",
          "text": [
            "      sex_male    age  currentSmoker  cigsPerDay  BPMeds  prevalentStroke  \\\n",
            "0        False  False          False       False   False            False   \n",
            "1        False  False          False       False   False            False   \n",
            "2        False  False          False       False   False            False   \n",
            "3        False  False          False       False   False            False   \n",
            "4        False  False          False       False   False            False   \n",
            "...        ...    ...            ...         ...     ...              ...   \n",
            "4235     False  False          False       False   False            False   \n",
            "4236     False  False          False       False   False            False   \n",
            "4237     False  False          False       False   False            False   \n",
            "4238     False  False          False       False   False            False   \n",
            "4239     False  False          False       False   False            False   \n",
            "\n",
            "      prevalentHyp  diabetes  totChol  sysBP  diaBP    BMI  heartRate  \\\n",
            "0            False     False    False  False  False  False      False   \n",
            "1            False     False    False  False  False  False      False   \n",
            "2            False     False    False  False  False  False      False   \n",
            "3            False     False    False  False  False  False      False   \n",
            "4            False     False    False  False  False  False      False   \n",
            "...            ...       ...      ...    ...    ...    ...        ...   \n",
            "4235         False     False    False  False  False  False      False   \n",
            "4236         False     False    False  False  False  False      False   \n",
            "4237         False     False    False  False  False  False      False   \n",
            "4238         False     False    False  False  False  False      False   \n",
            "4239         False     False    False  False  False  False      False   \n",
            "\n",
            "      glucose  TenYearCHD  \n",
            "0       False       False  \n",
            "1       False       False  \n",
            "2       False       False  \n",
            "3       False       False  \n",
            "4       False       False  \n",
            "...       ...         ...  \n",
            "4235    False       False  \n",
            "4236    False       False  \n",
            "4237    False       False  \n",
            "4238    False       False  \n",
            "4239    False       False  \n",
            "\n",
            "[4240 rows x 15 columns]\n"
          ]
        }
      ]
    },
    {
      "cell_type": "code",
      "source": [
        "df['cigsPerDay'].fillna((df['cigsPerDay'].median()), inplace=True)"
      ],
      "metadata": {
        "id": "kSttwapVbQYX"
      },
      "id": "kSttwapVbQYX",
      "execution_count": null,
      "outputs": []
    },
    {
      "cell_type": "code",
      "source": [
        "df['BPMeds'].fillna((df['BPMeds'].mean()), inplace=True)"
      ],
      "metadata": {
        "id": "zAB6hVcwcGlO"
      },
      "id": "zAB6hVcwcGlO",
      "execution_count": null,
      "outputs": []
    },
    {
      "cell_type": "code",
      "source": [
        "df['glucose'].fillna((df['glucose'].mean()), inplace=True)"
      ],
      "metadata": {
        "id": "JQm9Hn0PchO-"
      },
      "id": "JQm9Hn0PchO-",
      "execution_count": null,
      "outputs": []
    },
    {
      "cell_type": "code",
      "source": [
        "df['BMI'].fillna((df['BMI'].mean()),inplace=True)"
      ],
      "metadata": {
        "id": "lcj7TpBVcwma"
      },
      "id": "lcj7TpBVcwma",
      "execution_count": null,
      "outputs": []
    },
    {
      "cell_type": "code",
      "source": [
        "df['totChol'].fillna(df['totChol'].mean(),inplace=True)"
      ],
      "metadata": {
        "id": "R3SmABKFc-np"
      },
      "id": "R3SmABKFc-np",
      "execution_count": null,
      "outputs": []
    },
    {
      "cell_type": "code",
      "source": [
        "df['heartRate'].fillna((df['heartRate'].mean()),inplace=True)"
      ],
      "metadata": {
        "id": "hV5GReREdRN-"
      },
      "id": "hV5GReREdRN-",
      "execution_count": null,
      "outputs": []
    },
    {
      "cell_type": "code",
      "source": [
        "df.replace([np.inf, -np.inf], np.nan, inplace=True)\n",
        "\n"
      ],
      "metadata": {
        "id": "mG1qY_UHlzOa"
      },
      "id": "mG1qY_UHlzOa",
      "execution_count": null,
      "outputs": []
    },
    {
      "cell_type": "code",
      "source": [
        "df.isnull().sum()"
      ],
      "metadata": {
        "id": "HGqU-6GLc4Wq",
        "outputId": "646f1c56-bd3e-4f52-e074-6f5c9b07d340",
        "colab": {
          "base_uri": "https://localhost:8080/"
        }
      },
      "id": "HGqU-6GLc4Wq",
      "execution_count": null,
      "outputs": [
        {
          "output_type": "execute_result",
          "data": {
            "text/plain": [
              "sex_male           0\n",
              "age                0\n",
              "currentSmoker      0\n",
              "cigsPerDay         0\n",
              "BPMeds             0\n",
              "prevalentStroke    0\n",
              "prevalentHyp       0\n",
              "diabetes           0\n",
              "totChol            0\n",
              "sysBP              0\n",
              "diaBP              0\n",
              "BMI                0\n",
              "heartRate          0\n",
              "glucose            0\n",
              "TenYearCHD         0\n",
              "dtype: int64"
            ]
          },
          "metadata": {},
          "execution_count": 17
        }
      ]
    },
    {
      "cell_type": "code",
      "source": [
        "ds = df.isin([np.inf, -np.inf])\n",
        "print(ds)"
      ],
      "metadata": {
        "id": "kBKWSWFwmKjk",
        "outputId": "241d3eb2-ced4-4551-ad17-e040928ad98f",
        "colab": {
          "base_uri": "https://localhost:8080/"
        }
      },
      "id": "kBKWSWFwmKjk",
      "execution_count": null,
      "outputs": [
        {
          "output_type": "stream",
          "name": "stdout",
          "text": [
            "      sex_male    age  currentSmoker  cigsPerDay  BPMeds  prevalentStroke  \\\n",
            "0        False  False          False       False   False            False   \n",
            "1        False  False          False       False   False            False   \n",
            "2        False  False          False       False   False            False   \n",
            "3        False  False          False       False   False            False   \n",
            "4        False  False          False       False   False            False   \n",
            "...        ...    ...            ...         ...     ...              ...   \n",
            "4235     False  False          False       False   False            False   \n",
            "4236     False  False          False       False   False            False   \n",
            "4237     False  False          False       False   False            False   \n",
            "4238     False  False          False       False   False            False   \n",
            "4239     False  False          False       False   False            False   \n",
            "\n",
            "      prevalentHyp  diabetes  totChol  sysBP  diaBP    BMI  heartRate  \\\n",
            "0            False     False    False  False  False  False      False   \n",
            "1            False     False    False  False  False  False      False   \n",
            "2            False     False    False  False  False  False      False   \n",
            "3            False     False    False  False  False  False      False   \n",
            "4            False     False    False  False  False  False      False   \n",
            "...            ...       ...      ...    ...    ...    ...        ...   \n",
            "4235         False     False    False  False  False  False      False   \n",
            "4236         False     False    False  False  False  False      False   \n",
            "4237         False     False    False  False  False  False      False   \n",
            "4238         False     False    False  False  False  False      False   \n",
            "4239         False     False    False  False  False  False      False   \n",
            "\n",
            "      glucose  TenYearCHD  \n",
            "0       False       False  \n",
            "1       False       False  \n",
            "2       False       False  \n",
            "3       False       False  \n",
            "4       False       False  \n",
            "...       ...         ...  \n",
            "4235    False       False  \n",
            "4236    False       False  \n",
            "4237    False       False  \n",
            "4238    False       False  \n",
            "4239    False       False  \n",
            "\n",
            "[4240 rows x 15 columns]\n"
          ]
        }
      ]
    },
    {
      "cell_type": "code",
      "source": [
        "df['BMI']"
      ],
      "metadata": {
        "id": "ujjaryrKCOxn",
        "outputId": "e95fefdf-2d74-419a-9fac-a0103bcc8c81",
        "colab": {
          "base_uri": "https://localhost:8080/"
        }
      },
      "id": "ujjaryrKCOxn",
      "execution_count": null,
      "outputs": [
        {
          "output_type": "execute_result",
          "data": {
            "text/plain": [
              "0       26.97\n",
              "1       28.73\n",
              "2       25.34\n",
              "3       28.58\n",
              "4       23.10\n",
              "        ...  \n",
              "4235    22.00\n",
              "4236    19.16\n",
              "4237    21.47\n",
              "4238    25.60\n",
              "4239    20.91\n",
              "Name: BMI, Length: 4240, dtype: float64"
            ]
          },
          "metadata": {},
          "execution_count": 19
        }
      ]
    },
    {
      "cell_type": "markdown",
      "source": [
        "###Q4. The following code is set up for you, replace 'dataframe' with the name of the your variable. What do you understand from this EDA? Why do some graphs have only two bars, at 0 and 1 and others have multiple?"
      ],
      "metadata": {
        "id": "CIa2gyH9U17n"
      },
      "id": "CIa2gyH9U17n"
    },
    {
      "cell_type": "code",
      "execution_count": null,
      "id": "2e63f28a",
      "metadata": {
        "id": "2e63f28a",
        "outputId": "1ea0350f-e359-42b5-cb82-c5d5941b2fa9",
        "colab": {
          "base_uri": "https://localhost:8080/",
          "height": 994
        }
      },
      "outputs": [
        {
          "output_type": "display_data",
          "data": {
            "text/plain": [
              "<Figure size 1440x1440 with 15 Axes>"
            ],
            "image/png": "[encoded data removed]"
          },
          "metadata": {
            "needs_background": "light"
          }
        }
      ],
      "source": [
        "def draw_histograms(dataframe, features, rows, cols):\n",
        "    fig=plt.figure(figsize=(20,20))\n",
        "    for i, feature in enumerate(features):\n",
        "        ax=fig.add_subplot(rows,cols,i+1)\n",
        "        dataframe[feature].hist(bins=20,ax=ax,facecolor='red')\n",
        "        ax.set_title(feature+\"Distribution\", color='blue')\n",
        "    fig.tight_layout()\n",
        "    plt.show()\n",
        "draw_histograms(df, df.columns, 6, 3)"
      ]
    },
    {
      "cell_type": "markdown",
      "source": [
        "The ones having graphs at 0 &1 are binary,therefore have only two values 0 &1. The rest are distributed values along a range"
      ],
      "metadata": {
        "id": "IN2IMrpODEwd"
      },
      "id": "IN2IMrpODEwd"
    },
    {
      "cell_type": "markdown",
      "source": [
        "###Q5. Using sns.countplot find out number of Positive cases and Negative cases in the dataset, i.e., in your target column."
      ],
      "metadata": {
        "id": "ejFQdFbDVZ_Z"
      },
      "id": "ejFQdFbDVZ_Z"
    },
    {
      "cell_type": "code",
      "execution_count": null,
      "id": "80c234a7",
      "metadata": {
        "id": "80c234a7",
        "outputId": "aa37ebf0-0809-4ef3-f938-3990178cabd8",
        "colab": {
          "base_uri": "https://localhost:8080/",
          "height": 296
        }
      },
      "outputs": [
        {
          "output_type": "execute_result",
          "data": {
            "text/plain": [
              "<matplotlib.axes._subplots.AxesSubplot at 0x7fa33ade56d0>"
            ]
          },
          "metadata": {},
          "execution_count": 21
        },
        {
          "output_type": "display_data",
          "data": {
            "text/plain": [
              "<Figure size 432x288 with 1 Axes>"
            ],
            "image/png": "[encoded data removed]"
          },
          "metadata": {
            "needs_background": "light"
          }
        }
      ],
      "source": [
        "#Code\n",
        "import seaborn as sns\n",
        "sns.countplot(x ='TenYearCHD', data = df)"
      ]
    },
    {
      "cell_type": "markdown",
      "source": [
        "###Q6a. Split the dataset into train and test and fit the training dataset in the Logistic Regression. "
      ],
      "metadata": {
        "id": "mj0ExaFaWZlH"
      },
      "id": "mj0ExaFaWZlH"
    },
    {
      "cell_type": "code",
      "source": [
        "df.isnull().sum()"
      ],
      "metadata": {
        "id": "4uOaUWgEBrXL",
        "outputId": "606f6416-aea9-4f99-cc03-9da7369e6164",
        "colab": {
          "base_uri": "https://localhost:8080/"
        }
      },
      "id": "4uOaUWgEBrXL",
      "execution_count": null,
      "outputs": [
        {
          "output_type": "execute_result",
          "data": {
            "text/plain": [
              "sex_male           0\n",
              "age                0\n",
              "currentSmoker      0\n",
              "cigsPerDay         0\n",
              "BPMeds             0\n",
              "prevalentStroke    0\n",
              "prevalentHyp       0\n",
              "diabetes           0\n",
              "totChol            0\n",
              "sysBP              0\n",
              "diaBP              0\n",
              "BMI                0\n",
              "heartRate          0\n",
              "glucose            0\n",
              "TenYearCHD         0\n",
              "dtype: int64"
            ]
          },
          "metadata": {},
          "execution_count": 22
        }
      ]
    },
    {
      "cell_type": "code",
      "source": [
        "#Split the dataset and fit the model\n",
        "X = df.iloc[:, :-1].values\n",
        "y = df.iloc[:, -1].values"
      ],
      "metadata": {
        "id": "x2p0VehmWDpD"
      },
      "id": "x2p0VehmWDpD",
      "execution_count": null,
      "outputs": []
    },
    {
      "cell_type": "code",
      "source": [
        "from sklearn.model_selection import train_test_split\n",
        "X_train, X_test, y_train, y_test = train_test_split(X, y, test_size = 1/3, random_state = 0)"
      ],
      "metadata": {
        "id": "WGkF8zX_gktv"
      },
      "id": "WGkF8zX_gktv",
      "execution_count": null,
      "outputs": []
    },
    {
      "cell_type": "code",
      "source": [
        "from sklearn.preprocessing import StandardScaler\n",
        "sc = StandardScaler()\n",
        "X_train = sc.fit_transform(X_train)\n",
        "X_test = sc.transform(X_test)"
      ],
      "metadata": {
        "id": "6eVQaSdshCNo"
      },
      "id": "6eVQaSdshCNo",
      "execution_count": null,
      "outputs": []
    },
    {
      "cell_type": "code",
      "source": [
        "np.any(np.isnan(X_train))"
      ],
      "metadata": {
        "id": "pne5scT4_u0U",
        "outputId": "227f9c9c-8b1a-4aaf-ac17-4d0d065b5bd3",
        "colab": {
          "base_uri": "https://localhost:8080/"
        }
      },
      "id": "pne5scT4_u0U",
      "execution_count": null,
      "outputs": [
        {
          "output_type": "execute_result",
          "data": {
            "text/plain": [
              "False"
            ]
          },
          "metadata": {},
          "execution_count": 26
        }
      ]
    },
    {
      "cell_type": "code",
      "source": [
        "from sklearn.linear_model import LogisticRegression\n",
        "classifier = LogisticRegression(random_state = 0)\n",
        "classifier.fit(X_train, y_train)"
      ],
      "metadata": {
        "id": "LSKfOIOWg5S-",
        "outputId": "2018d6c1-72ce-46f9-d9a2-84cbdcfb9cab",
        "colab": {
          "base_uri": "https://localhost:8080/"
        }
      },
      "id": "LSKfOIOWg5S-",
      "execution_count": null,
      "outputs": [
        {
          "output_type": "execute_result",
          "data": {
            "text/plain": [
              "LogisticRegression(random_state=0)"
            ]
          },
          "metadata": {},
          "execution_count": 27
        }
      ]
    },
    {
      "cell_type": "markdown",
      "source": [
        "###Q6b. Does running the above code give a Convergence Warning? What could be the cause of this problem? Try to find out methods that can deal with this problem."
      ],
      "metadata": {
        "id": "40dI3XQSWrDh"
      },
      "id": "40dI3XQSWrDh"
    },
    {
      "cell_type": "markdown",
      "id": "2caf8c74",
      "metadata": {
        "id": "2caf8c74"
      },
      "source": [
        "Although there are several methods, we will use backward feature selection to solve this problem. You can learn more about feature selection using the below link. \n",
        "\n",
        "https://www.javatpoint.com/feature-selection-techniques-in-machine-learning\n",
        "\n",
        "Understand and run the following 4 cells which carry out backward feature selection for you. Make sure to replace 'df' by your dataframe variable"
      ]
    },
    {
      "cell_type": "code",
      "execution_count": null,
      "id": "fff22648",
      "metadata": {
        "id": "fff22648",
        "outputId": "9d66e152-0dd0-47ad-b70a-ed4f6a9d8829",
        "colab": {
          "base_uri": "https://localhost:8080/",
          "height": 305
        }
      },
      "outputs": [
        {
          "output_type": "stream",
          "name": "stderr",
          "text": [
            "/usr/local/lib/python3.8/dist-packages/statsmodels/tsa/tsatools.py:142: FutureWarning: In a future version of pandas all arguments of concat except for the argument 'objs' will be keyword-only\n",
            "  x = pd.concat(x[::order], 1)\n"
          ]
        },
        {
          "output_type": "execute_result",
          "data": {
            "text/plain": [
              "   const  sex_male  age  currentSmoker  cigsPerDay  BPMeds  prevalentStroke  \\\n",
              "0    1.0         1   39              0         0.0     0.0                0   \n",
              "1    1.0         0   46              0         0.0     0.0                0   \n",
              "2    1.0         1   48              1        20.0     0.0                0   \n",
              "3    1.0         0   61              1        30.0     0.0                0   \n",
              "4    1.0         0   46              1        23.0     0.0                0   \n",
              "\n",
              "   prevalentHyp  diabetes  totChol  sysBP  diaBP    BMI  heartRate  glucose  \\\n",
              "0             0         0    195.0  106.0   70.0  26.97       80.0     77.0   \n",
              "1             0         0    250.0  121.0   81.0  28.73       95.0     76.0   \n",
              "2             0         0    245.0  127.5   80.0  25.34       75.0     70.0   \n",
              "3             1         0    225.0  150.0   95.0  28.58       65.0    103.0   \n",
              "4             0         0    285.0  130.0   84.0  23.10       85.0     85.0   \n",
              "\n",
              "   TenYearCHD  \n",
              "0           0  \n",
              "1           0  \n",
              "2           0  \n",
              "3           1  \n",
              "4           0  "
            ],
            "text/html": [
              "\n",
              "  <div id=\"df-7a76406d-4016-49ad-9b52-331f85c3e7c6\">\n",
              "    <div class=\"colab-df-container\">\n",
              "      <div>\n",
              "<style scoped>\n",
              "    .dataframe tbody tr th:only-of-type {\n",
              "        vertical-align: middle;\n",
              "    }\n",
              "\n",
              "    .dataframe tbody tr th {\n",
              "        vertical-align: top;\n",
              "    }\n",
              "\n",
              "    .dataframe thead th {\n",
              "        text-align: right;\n",
              "    }\n",
              "</style>\n",
              "<table border=\"1\" class=\"dataframe\">\n",
              "  <thead>\n",
              "    <tr style=\"text-align: right;\">\n",
              "      <th></th>\n",
              "      <th>const</th>\n",
              "      <th>sex_male</th>\n",
              "      <th>age</th>\n",
              "      <th>currentSmoker</th>\n",
              "      <th>cigsPerDay</th>\n",
              "      <th>BPMeds</th>\n",
              "      <th>prevalentStroke</th>\n",
              "      <th>prevalentHyp</th>\n",
              "      <th>diabetes</th>\n",
              "      <th>totChol</th>\n",
              "      <th>sysBP</th>\n",
              "      <th>diaBP</th>\n",
              "      <th>BMI</th>\n",
              "      <th>heartRate</th>\n",
              "      <th>glucose</th>\n",
              "      <th>TenYearCHD</th>\n",
              "    </tr>\n",
              "  </thead>\n",
              "  <tbody>\n",
              "    <tr>\n",
              "      <th>0</th>\n",
              "      <td>1.0</td>\n",
              "      <td>1</td>\n",
              "      <td>39</td>\n",
              "      <td>0</td>\n",
              "      <td>0.0</td>\n",
              "      <td>0.0</td>\n",
              "      <td>0</td>\n",
              "      <td>0</td>\n",
              "      <td>0</td>\n",
              "      <td>195.0</td>\n",
              "      <td>106.0</td>\n",
              "      <td>70.0</td>\n",
              "      <td>26.97</td>\n",
              "      <td>80.0</td>\n",
              "      <td>77.0</td>\n",
              "      <td>0</td>\n",
              "    </tr>\n",
              "    <tr>\n",
              "      <th>1</th>\n",
              "      <td>1.0</td>\n",
              "      <td>0</td>\n",
              "      <td>46</td>\n",
              "      <td>0</td>\n",
              "      <td>0.0</td>\n",
              "      <td>0.0</td>\n",
              "      <td>0</td>\n",
              "      <td>0</td>\n",
              "      <td>0</td>\n",
              "      <td>250.0</td>\n",
              "      <td>121.0</td>\n",
              "      <td>81.0</td>\n",
              "      <td>28.73</td>\n",
              "      <td>95.0</td>\n",
              "      <td>76.0</td>\n",
              "      <td>0</td>\n",
              "    </tr>\n",
              "    <tr>\n",
              "      <th>2</th>\n",
              "      <td>1.0</td>\n",
              "      <td>1</td>\n",
              "      <td>48</td>\n",
              "      <td>1</td>\n",
              "      <td>20.0</td>\n",
              "      <td>0.0</td>\n",
              "      <td>0</td>\n",
              "      <td>0</td>\n",
              "      <td>0</td>\n",
              "      <td>245.0</td>\n",
              "      <td>127.5</td>\n",
              "      <td>80.0</td>\n",
              "      <td>25.34</td>\n",
              "      <td>75.0</td>\n",
              "      <td>70.0</td>\n",
              "      <td>0</td>\n",
              "    </tr>\n",
              "    <tr>\n",
              "      <th>3</th>\n",
              "      <td>1.0</td>\n",
              "      <td>0</td>\n",
              "      <td>61</td>\n",
              "      <td>1</td>\n",
              "      <td>30.0</td>\n",
              "      <td>0.0</td>\n",
              "      <td>0</td>\n",
              "      <td>1</td>\n",
              "      <td>0</td>\n",
              "      <td>225.0</td>\n",
              "      <td>150.0</td>\n",
              "      <td>95.0</td>\n",
              "      <td>28.58</td>\n",
              "      <td>65.0</td>\n",
              "      <td>103.0</td>\n",
              "      <td>1</td>\n",
              "    </tr>\n",
              "    <tr>\n",
              "      <th>4</th>\n",
              "      <td>1.0</td>\n",
              "      <td>0</td>\n",
              "      <td>46</td>\n",
              "      <td>1</td>\n",
              "      <td>23.0</td>\n",
              "      <td>0.0</td>\n",
              "      <td>0</td>\n",
              "      <td>0</td>\n",
              "      <td>0</td>\n",
              "      <td>285.0</td>\n",
              "      <td>130.0</td>\n",
              "      <td>84.0</td>\n",
              "      <td>23.10</td>\n",
              "      <td>85.0</td>\n",
              "      <td>85.0</td>\n",
              "      <td>0</td>\n",
              "    </tr>\n",
              "  </tbody>\n",
              "</table>\n",
              "</div>\n",
              "      <button class=\"colab-df-convert\" onclick=\"convertToInteractive('df-7a76406d-4016-49ad-9b52-331f85c3e7c6')\"\n",
              "              title=\"Convert this dataframe to an interactive table.\"\n",
              "              style=\"display:none;\">\n",
              "        \n",
              "  <svg xmlns=\"http://www.w3.org/2000/svg\" height=\"24px\"viewBox=\"0 0 24 24\"\n",
              "       width=\"24px\">\n",
              "    <path d=\"M0 0h24v24H0V0z\" fill=\"none\"/>\n",
              "    <path d=\"M18.56 5.44l.94 2.06.94-2.06 2.06-.94-2.06-.94-.94-2.06-.94 2.06-2.06.94zm-11 1L8.5 8.5l.94-2.06 2.06-.94-2.06-.94L8.5 2.5l-.94 2.06-2.06.94zm10 10l.94 2.06.94-2.06 2.06-.94-2.06-.94-.94-2.06-.94 2.06-2.06.94z\"/><path d=\"M17.41 7.96l-1.37-1.37c-.4-.4-.92-.59-1.43-.59-.52 0-1.04.2-1.43.59L10.3 9.45l-7.72 7.72c-.78.78-.78 2.05 0 2.83L4 21.41c.39.39.9.59 1.41.59.51 0 1.02-.2 1.41-.59l7.78-7.78 2.81-2.81c.8-.78.8-2.07 0-2.86zM5.41 20L4 18.59l7.72-7.72 1.47 1.35L5.41 20z\"/>\n",
              "  </svg>\n",
              "      </button>\n",
              "      \n",
              "  <style>\n",
              "    .colab-df-container {\n",
              "      display:flex;\n",
              "      flex-wrap:wrap;\n",
              "      gap: 12px;\n",
              "    }\n",
              "\n",
              "    .colab-df-convert {\n",
              "      background-color: #E8F0FE;\n",
              "      border: none;\n",
              "      border-radius: 50%;\n",
              "      cursor: pointer;\n",
              "      display: none;\n",
              "      fill: #1967D2;\n",
              "      height: 32px;\n",
              "      padding: 0 0 0 0;\n",
              "      width: 32px;\n",
              "    }\n",
              "\n",
              "    .colab-df-convert:hover {\n",
              "      background-color: #E2EBFA;\n",
              "      box-shadow: 0px 1px 2px rgba(60, 64, 67, 0.3), 0px 1px 3px 1px rgba(60, 64, 67, 0.15);\n",
              "      fill: #174EA6;\n",
              "    }\n",
              "\n",
              "    [theme=dark] .colab-df-convert {\n",
              "      background-color: #3B4455;\n",
              "      fill: #D2E3FC;\n",
              "    }\n",
              "\n",
              "    [theme=dark] .colab-df-convert:hover {\n",
              "      background-color: #434B5C;\n",
              "      box-shadow: 0px 1px 3px 1px rgba(0, 0, 0, 0.15);\n",
              "      filter: drop-shadow(0px 1px 2px rgba(0, 0, 0, 0.3));\n",
              "      fill: #FFFFFF;\n",
              "    }\n",
              "  </style>\n",
              "\n",
              "      <script>\n",
              "        const buttonEl =\n",
              "          document.querySelector('#df-7a76406d-4016-49ad-9b52-331f85c3e7c6 button.colab-df-convert');\n",
              "        buttonEl.style.display =\n",
              "          google.colab.kernel.accessAllowed ? 'block' : 'none';\n",
              "\n",
              "        async function convertToInteractive(key) {\n",
              "          const element = document.querySelector('#df-7a76406d-4016-49ad-9b52-331f85c3e7c6');\n",
              "          const dataTable =\n",
              "            await google.colab.kernel.invokeFunction('convertToInteractive',\n",
              "                                                     [key], {});\n",
              "          if (!dataTable) return;\n",
              "\n",
              "          const docLinkHtml = 'Like what you see? Visit the ' +\n",
              "            '<a target=\"_blank\" href=https://colab.research.google.com/notebooks/data_table.ipynb>data table notebook</a>'\n",
              "            + ' to learn more about interactive tables.';\n",
              "          element.innerHTML = '';\n",
              "          dataTable['output_type'] = 'display_data';\n",
              "          await google.colab.output.renderOutput(dataTable, element);\n",
              "          const docLink = document.createElement('div');\n",
              "          docLink.innerHTML = docLinkHtml;\n",
              "          element.appendChild(docLink);\n",
              "        }\n",
              "      </script>\n",
              "    </div>\n",
              "  </div>\n",
              "  "
            ]
          },
          "metadata": {},
          "execution_count": 28
        }
      ],
      "source": [
        "from statsmodels.tools import add_constant as add_constant\n",
        "df_constant = add_constant(df)\n",
        "df_constant.head()"
      ]
    },
    {
      "cell_type": "code",
      "execution_count": null,
      "id": "c9ae3c88",
      "metadata": {
        "id": "c9ae3c88",
        "outputId": "a7e18505-b1de-4c25-a644-9bcc7c4eda57",
        "colab": {
          "base_uri": "https://localhost:8080/",
          "height": 582
        }
      },
      "outputs": [
        {
          "output_type": "stream",
          "name": "stdout",
          "text": [
            "Optimization terminated successfully.\n",
            "         Current function value: 0.378445\n",
            "         Iterations 7\n"
          ]
        },
        {
          "output_type": "execute_result",
          "data": {
            "text/plain": [
              "<class 'statsmodels.iolib.summary.Summary'>\n",
              "\"\"\"\n",
              "                           Logit Regression Results                           \n",
              "==============================================================================\n",
              "Dep. Variable:             TenYearCHD   No. Observations:                 4240\n",
              "Model:                          Logit   Df Residuals:                     4225\n",
              "Method:                           MLE   Df Model:                           14\n",
              "Date:                Thu, 29 Dec 2022   Pseudo R-squ.:                  0.1116\n",
              "Time:                        13:51:06   Log-Likelihood:                -1604.6\n",
              "converged:                       True   LL-Null:                       -1806.1\n",
              "Covariance Type:            nonrobust   LLR p-value:                 2.966e-77\n",
              "===================================================================================\n",
              "                      coef    std err          z      P>|z|      [0.025      0.975]\n",
              "-----------------------------------------------------------------------------------\n",
              "const              -8.1782      0.644    -12.696      0.000      -9.441      -6.916\n",
              "sex_male            0.5046      0.100      5.028      0.000       0.308       0.701\n",
              "age                 0.0624      0.006     10.112      0.000       0.050       0.075\n",
              "currentSmoker       0.0145      0.143      0.101      0.919      -0.265       0.294\n",
              "cigsPerDay          0.0214      0.006      3.791      0.000       0.010       0.032\n",
              "BPMeds              0.2446      0.220      1.111      0.267      -0.187       0.676\n",
              "prevalentStroke     0.9664      0.441      2.190      0.029       0.101       1.831\n",
              "prevalentHyp        0.2297      0.128      1.788      0.074      -0.022       0.482\n",
              "diabetes            0.1905      0.294      0.648      0.517      -0.386       0.767\n",
              "totChol             0.0018      0.001      1.784      0.074      -0.000       0.004\n",
              "sysBP               0.0142      0.004      4.021      0.000       0.007       0.021\n",
              "diaBP              -0.0030      0.006     -0.505      0.613      -0.015       0.009\n",
              "BMI                 0.0039      0.012      0.330      0.741      -0.019       0.027\n",
              "heartRate          -0.0015      0.004     -0.375      0.708      -0.009       0.006\n",
              "glucose             0.0067      0.002      3.125      0.002       0.003       0.011\n",
              "===================================================================================\n",
              "\"\"\""
            ],
            "text/html": [
              "<table class=\"simpletable\">\n",
              "<caption>Logit Regression Results</caption>\n",
              "<tr>\n",
              "  <th>Dep. Variable:</th>      <td>TenYearCHD</td>    <th>  No. Observations:  </th>  <td>  4240</td>  \n",
              "</tr>\n",
              "<tr>\n",
              "  <th>Model:</th>                 <td>Logit</td>      <th>  Df Residuals:      </th>  <td>  4225</td>  \n",
              "</tr>\n",
              "<tr>\n",
              "  <th>Method:</th>                 <td>MLE</td>       <th>  Df Model:          </th>  <td>    14</td>  \n",
              "</tr>\n",
              "<tr>\n",
              "  <th>Date:</th>            <td>Thu, 29 Dec 2022</td> <th>  Pseudo R-squ.:     </th>  <td>0.1116</td>  \n",
              "</tr>\n",
              "<tr>\n",
              "  <th>Time:</th>                <td>13:51:06</td>     <th>  Log-Likelihood:    </th> <td> -1604.6</td> \n",
              "</tr>\n",
              "<tr>\n",
              "  <th>converged:</th>             <td>True</td>       <th>  LL-Null:           </th> <td> -1806.1</td> \n",
              "</tr>\n",
              "<tr>\n",
              "  <th>Covariance Type:</th>     <td>nonrobust</td>    <th>  LLR p-value:       </th> <td>2.966e-77</td>\n",
              "</tr>\n",
              "</table>\n",
              "<table class=\"simpletable\">\n",
              "<tr>\n",
              "         <td></td>            <th>coef</th>     <th>std err</th>      <th>z</th>      <th>P>|z|</th>  <th>[0.025</th>    <th>0.975]</th>  \n",
              "</tr>\n",
              "<tr>\n",
              "  <th>const</th>           <td>   -8.1782</td> <td>    0.644</td> <td>  -12.696</td> <td> 0.000</td> <td>   -9.441</td> <td>   -6.916</td>\n",
              "</tr>\n",
              "<tr>\n",
              "  <th>sex_male</th>        <td>    0.5046</td> <td>    0.100</td> <td>    5.028</td> <td> 0.000</td> <td>    0.308</td> <td>    0.701</td>\n",
              "</tr>\n",
              "<tr>\n",
              "  <th>age</th>             <td>    0.0624</td> <td>    0.006</td> <td>   10.112</td> <td> 0.000</td> <td>    0.050</td> <td>    0.075</td>\n",
              "</tr>\n",
              "<tr>\n",
              "  <th>currentSmoker</th>   <td>    0.0145</td> <td>    0.143</td> <td>    0.101</td> <td> 0.919</td> <td>   -0.265</td> <td>    0.294</td>\n",
              "</tr>\n",
              "<tr>\n",
              "  <th>cigsPerDay</th>      <td>    0.0214</td> <td>    0.006</td> <td>    3.791</td> <td> 0.000</td> <td>    0.010</td> <td>    0.032</td>\n",
              "</tr>\n",
              "<tr>\n",
              "  <th>BPMeds</th>          <td>    0.2446</td> <td>    0.220</td> <td>    1.111</td> <td> 0.267</td> <td>   -0.187</td> <td>    0.676</td>\n",
              "</tr>\n",
              "<tr>\n",
              "  <th>prevalentStroke</th> <td>    0.9664</td> <td>    0.441</td> <td>    2.190</td> <td> 0.029</td> <td>    0.101</td> <td>    1.831</td>\n",
              "</tr>\n",
              "<tr>\n",
              "  <th>prevalentHyp</th>    <td>    0.2297</td> <td>    0.128</td> <td>    1.788</td> <td> 0.074</td> <td>   -0.022</td> <td>    0.482</td>\n",
              "</tr>\n",
              "<tr>\n",
              "  <th>diabetes</th>        <td>    0.1905</td> <td>    0.294</td> <td>    0.648</td> <td> 0.517</td> <td>   -0.386</td> <td>    0.767</td>\n",
              "</tr>\n",
              "<tr>\n",
              "  <th>totChol</th>         <td>    0.0018</td> <td>    0.001</td> <td>    1.784</td> <td> 0.074</td> <td>   -0.000</td> <td>    0.004</td>\n",
              "</tr>\n",
              "<tr>\n",
              "  <th>sysBP</th>           <td>    0.0142</td> <td>    0.004</td> <td>    4.021</td> <td> 0.000</td> <td>    0.007</td> <td>    0.021</td>\n",
              "</tr>\n",
              "<tr>\n",
              "  <th>diaBP</th>           <td>   -0.0030</td> <td>    0.006</td> <td>   -0.505</td> <td> 0.613</td> <td>   -0.015</td> <td>    0.009</td>\n",
              "</tr>\n",
              "<tr>\n",
              "  <th>BMI</th>             <td>    0.0039</td> <td>    0.012</td> <td>    0.330</td> <td> 0.741</td> <td>   -0.019</td> <td>    0.027</td>\n",
              "</tr>\n",
              "<tr>\n",
              "  <th>heartRate</th>       <td>   -0.0015</td> <td>    0.004</td> <td>   -0.375</td> <td> 0.708</td> <td>   -0.009</td> <td>    0.006</td>\n",
              "</tr>\n",
              "<tr>\n",
              "  <th>glucose</th>         <td>    0.0067</td> <td>    0.002</td> <td>    3.125</td> <td> 0.002</td> <td>    0.003</td> <td>    0.011</td>\n",
              "</tr>\n",
              "</table>"
            ]
          },
          "metadata": {},
          "execution_count": 29
        }
      ],
      "source": [
        "st.chisqprob = lambda chisq, df: st.chi2.sf(chisq, df)\n",
        "cols = df_constant.columns[:-1]\n",
        "model = sm.Logit(df.TenYearCHD, df_constant[cols])\n",
        "result = model.fit()\n",
        "result.summary()"
      ]
    },
    {
      "cell_type": "code",
      "execution_count": null,
      "id": "9b196481",
      "metadata": {
        "id": "9b196481",
        "outputId": "2cb0977d-66c4-4c26-de3e-c8ec1aa2716d",
        "colab": {
          "base_uri": "https://localhost:8080/",
          "height": 359
        }
      },
      "outputs": [
        {
          "output_type": "execute_result",
          "data": {
            "text/plain": [
              "<class 'statsmodels.iolib.summary.Summary'>\n",
              "\"\"\"\n",
              "                           Logit Regression Results                           \n",
              "==============================================================================\n",
              "Dep. Variable:             TenYearCHD   No. Observations:                 4240\n",
              "Model:                          Logit   Df Residuals:                     4233\n",
              "Method:                           MLE   Df Model:                            6\n",
              "Date:                Thu, 29 Dec 2022   Pseudo R-squ.:                  0.1091\n",
              "Time:                        13:51:06   Log-Likelihood:                -1609.1\n",
              "converged:                       True   LL-Null:                       -1806.1\n",
              "Covariance Type:            nonrobust   LLR p-value:                 5.562e-82\n",
              "===================================================================================\n",
              "                      coef    std err          z      P>|z|      [0.025      0.975]\n",
              "-----------------------------------------------------------------------------------\n",
              "const              -8.4687      0.390    -21.739      0.000      -9.232      -7.705\n",
              "sex_male            0.4845      0.097      4.985      0.000       0.294       0.675\n",
              "age                 0.0648      0.006     10.941      0.000       0.053       0.076\n",
              "cigsPerDay          0.0216      0.004      5.624      0.000       0.014       0.029\n",
              "prevalentStroke     1.0466      0.436      2.399      0.016       0.192       1.901\n",
              "sysBP               0.0171      0.002      8.526      0.000       0.013       0.021\n",
              "glucose             0.0076      0.002      4.650      0.000       0.004       0.011\n",
              "===================================================================================\n",
              "\"\"\""
            ],
            "text/html": [
              "<table class=\"simpletable\">\n",
              "<caption>Logit Regression Results</caption>\n",
              "<tr>\n",
              "  <th>Dep. Variable:</th>      <td>TenYearCHD</td>    <th>  No. Observations:  </th>  <td>  4240</td>  \n",
              "</tr>\n",
              "<tr>\n",
              "  <th>Model:</th>                 <td>Logit</td>      <th>  Df Residuals:      </th>  <td>  4233</td>  \n",
              "</tr>\n",
              "<tr>\n",
              "  <th>Method:</th>                 <td>MLE</td>       <th>  Df Model:          </th>  <td>     6</td>  \n",
              "</tr>\n",
              "<tr>\n",
              "  <th>Date:</th>            <td>Thu, 29 Dec 2022</td> <th>  Pseudo R-squ.:     </th>  <td>0.1091</td>  \n",
              "</tr>\n",
              "<tr>\n",
              "  <th>Time:</th>                <td>13:51:06</td>     <th>  Log-Likelihood:    </th> <td> -1609.1</td> \n",
              "</tr>\n",
              "<tr>\n",
              "  <th>converged:</th>             <td>True</td>       <th>  LL-Null:           </th> <td> -1806.1</td> \n",
              "</tr>\n",
              "<tr>\n",
              "  <th>Covariance Type:</th>     <td>nonrobust</td>    <th>  LLR p-value:       </th> <td>5.562e-82</td>\n",
              "</tr>\n",
              "</table>\n",
              "<table class=\"simpletable\">\n",
              "<tr>\n",
              "         <td></td>            <th>coef</th>     <th>std err</th>      <th>z</th>      <th>P>|z|</th>  <th>[0.025</th>    <th>0.975]</th>  \n",
              "</tr>\n",
              "<tr>\n",
              "  <th>const</th>           <td>   -8.4687</td> <td>    0.390</td> <td>  -21.739</td> <td> 0.000</td> <td>   -9.232</td> <td>   -7.705</td>\n",
              "</tr>\n",
              "<tr>\n",
              "  <th>sex_male</th>        <td>    0.4845</td> <td>    0.097</td> <td>    4.985</td> <td> 0.000</td> <td>    0.294</td> <td>    0.675</td>\n",
              "</tr>\n",
              "<tr>\n",
              "  <th>age</th>             <td>    0.0648</td> <td>    0.006</td> <td>   10.941</td> <td> 0.000</td> <td>    0.053</td> <td>    0.076</td>\n",
              "</tr>\n",
              "<tr>\n",
              "  <th>cigsPerDay</th>      <td>    0.0216</td> <td>    0.004</td> <td>    5.624</td> <td> 0.000</td> <td>    0.014</td> <td>    0.029</td>\n",
              "</tr>\n",
              "<tr>\n",
              "  <th>prevalentStroke</th> <td>    1.0466</td> <td>    0.436</td> <td>    2.399</td> <td> 0.016</td> <td>    0.192</td> <td>    1.901</td>\n",
              "</tr>\n",
              "<tr>\n",
              "  <th>sysBP</th>           <td>    0.0171</td> <td>    0.002</td> <td>    8.526</td> <td> 0.000</td> <td>    0.013</td> <td>    0.021</td>\n",
              "</tr>\n",
              "<tr>\n",
              "  <th>glucose</th>         <td>    0.0076</td> <td>    0.002</td> <td>    4.650</td> <td> 0.000</td> <td>    0.004</td> <td>    0.011</td>\n",
              "</tr>\n",
              "</table>"
            ]
          },
          "metadata": {},
          "execution_count": 30
        }
      ],
      "source": [
        "def back_feature_elem (data_frame, dep_var, col_list):\n",
        "    while len(col_list)>0 :\n",
        "        model = sm.Logit(dep_var,data_frame[col_list])\n",
        "        result = model.fit(disp=0)\n",
        "        largest_pvalue = round(result.pvalues,3).nlargest(1)\n",
        "        if largest_pvalue[0]<(0.05):\n",
        "            return result\n",
        "            break\n",
        "        else:\n",
        "            col_list = col_list.drop(largest_pvalue.index)\n",
        "result = back_feature_elem(df_constant, df.TenYearCHD, cols)\n",
        "result.summary()"
      ]
    },
    {
      "cell_type": "code",
      "execution_count": null,
      "id": "a2a9efac",
      "metadata": {
        "id": "a2a9efac",
        "outputId": "596cfd55-9040-4bc2-e996-e1ab496c36e3",
        "colab": {
          "base_uri": "https://localhost:8080/"
        }
      },
      "outputs": [
        {
          "output_type": "stream",
          "name": "stdout",
          "text": [
            "                 CI 95%(2.5%)  CI 95%(97.5%)  Odds Ratio  pvalue\n",
            "const                0.000098       0.000451    0.000210   0.000\n",
            "sex_male             1.341791       1.964007    1.623357   0.000\n",
            "age                  1.054647       1.079425    1.066964   0.000\n",
            "cigsPerDay           1.014184       1.029579    1.021852   0.000\n",
            "prevalentStroke      1.211300       6.695671    2.847889   0.016\n",
            "sysBP                1.013226       1.021206    1.017208   0.000\n",
            "glucose              1.004399       1.010845    1.007617   0.000\n"
          ]
        }
      ],
      "source": [
        "params = np.exp(result.params)\n",
        "conf = np.exp(result.conf_int())\n",
        "conf['OR'] = params\n",
        "pvalue = round(result.pvalues,3)\n",
        "conf['pvalue'] = pvalue\n",
        "conf.columns = ['CI 95%(2.5%)','CI 95%(97.5%)', 'Odds Ratio', 'pvalue']\n",
        "print((conf))"
      ]
    },
    {
      "cell_type": "markdown",
      "source": [
        "###Q7. The above table mentions the columns with the highest importance. Create a new dataframe with just these columns and your target column. Split it into training and testing dataset and fit the training data into Logistic regression model. Also predict the y values for the test set."
      ],
      "metadata": {
        "id": "kB_Av3nKaDK4"
      },
      "id": "kB_Av3nKaDK4"
    },
    {
      "cell_type": "code",
      "source": [
        "#Split the new dataset and fit the model\n",
        "new_df=df[['sex_male','age','cigsPerDay','prevalentStroke','sysBP','glucose','TenYearCHD']].copy()\n",
        "new_df"
      ],
      "metadata": {
        "id": "kXQbeSsQbra-",
        "outputId": "a8ede956-aeb1-43f7-e7a2-07909ff605e8",
        "colab": {
          "base_uri": "https://localhost:8080/",
          "height": 424
        }
      },
      "id": "kXQbeSsQbra-",
      "execution_count": null,
      "outputs": [
        {
          "output_type": "execute_result",
          "data": {
            "text/plain": [
              "      sex_male  age  cigsPerDay  prevalentStroke  sysBP     glucose  \\\n",
              "0            1   39         0.0                0  106.0   77.000000   \n",
              "1            0   46         0.0                0  121.0   76.000000   \n",
              "2            1   48        20.0                0  127.5   70.000000   \n",
              "3            0   61        30.0                0  150.0  103.000000   \n",
              "4            0   46        23.0                0  130.0   85.000000   \n",
              "...        ...  ...         ...              ...    ...         ...   \n",
              "4235         0   48        20.0                0  131.0   86.000000   \n",
              "4236         0   44        15.0                0  126.5   81.963655   \n",
              "4237         0   52         0.0                0  133.5  107.000000   \n",
              "4238         1   40         0.0                0  141.0   72.000000   \n",
              "4239         0   39        30.0                0  133.0   80.000000   \n",
              "\n",
              "      TenYearCHD  \n",
              "0              0  \n",
              "1              0  \n",
              "2              0  \n",
              "3              1  \n",
              "4              0  \n",
              "...          ...  \n",
              "4235           0  \n",
              "4236           0  \n",
              "4237           0  \n",
              "4238           0  \n",
              "4239           0  \n",
              "\n",
              "[4240 rows x 7 columns]"
            ],
            "text/html": [
              "\n",
              "  <div id=\"df-2c2dbf4a-c0a3-478d-823d-e5379600395a\">\n",
              "    <div class=\"colab-df-container\">\n",
              "      <div>\n",
              "<style scoped>\n",
              "    .dataframe tbody tr th:only-of-type {\n",
              "        vertical-align: middle;\n",
              "    }\n",
              "\n",
              "    .dataframe tbody tr th {\n",
              "        vertical-align: top;\n",
              "    }\n",
              "\n",
              "    .dataframe thead th {\n",
              "        text-align: right;\n",
              "    }\n",
              "</style>\n",
              "<table border=\"1\" class=\"dataframe\">\n",
              "  <thead>\n",
              "    <tr style=\"text-align: right;\">\n",
              "      <th></th>\n",
              "      <th>sex_male</th>\n",
              "      <th>age</th>\n",
              "      <th>cigsPerDay</th>\n",
              "      <th>prevalentStroke</th>\n",
              "      <th>sysBP</th>\n",
              "      <th>glucose</th>\n",
              "      <th>TenYearCHD</th>\n",
              "    </tr>\n",
              "  </thead>\n",
              "  <tbody>\n",
              "    <tr>\n",
              "      <th>0</th>\n",
              "      <td>1</td>\n",
              "      <td>39</td>\n",
              "      <td>0.0</td>\n",
              "      <td>0</td>\n",
              "      <td>106.0</td>\n",
              "      <td>77.000000</td>\n",
              "      <td>0</td>\n",
              "    </tr>\n",
              "    <tr>\n",
              "      <th>1</th>\n",
              "      <td>0</td>\n",
              "      <td>46</td>\n",
              "      <td>0.0</td>\n",
              "      <td>0</td>\n",
              "      <td>121.0</td>\n",
              "      <td>76.000000</td>\n",
              "      <td>0</td>\n",
              "    </tr>\n",
              "    <tr>\n",
              "      <th>2</th>\n",
              "      <td>1</td>\n",
              "      <td>48</td>\n",
              "      <td>20.0</td>\n",
              "      <td>0</td>\n",
              "      <td>127.5</td>\n",
              "      <td>70.000000</td>\n",
              "      <td>0</td>\n",
              "    </tr>\n",
              "    <tr>\n",
              "      <th>3</th>\n",
              "      <td>0</td>\n",
              "      <td>61</td>\n",
              "      <td>30.0</td>\n",
              "      <td>0</td>\n",
              "      <td>150.0</td>\n",
              "      <td>103.000000</td>\n",
              "      <td>1</td>\n",
              "    </tr>\n",
              "    <tr>\n",
              "      <th>4</th>\n",
              "      <td>0</td>\n",
              "      <td>46</td>\n",
              "      <td>23.0</td>\n",
              "      <td>0</td>\n",
              "      <td>130.0</td>\n",
              "      <td>85.000000</td>\n",
              "      <td>0</td>\n",
              "    </tr>\n",
              "    <tr>\n",
              "      <th>...</th>\n",
              "      <td>...</td>\n",
              "      <td>...</td>\n",
              "      <td>...</td>\n",
              "      <td>...</td>\n",
              "      <td>...</td>\n",
              "      <td>...</td>\n",
              "      <td>...</td>\n",
              "    </tr>\n",
              "    <tr>\n",
              "      <th>4235</th>\n",
              "      <td>0</td>\n",
              "      <td>48</td>\n",
              "      <td>20.0</td>\n",
              "      <td>0</td>\n",
              "      <td>131.0</td>\n",
              "      <td>86.000000</td>\n",
              "      <td>0</td>\n",
              "    </tr>\n",
              "    <tr>\n",
              "      <th>4236</th>\n",
              "      <td>0</td>\n",
              "      <td>44</td>\n",
              "      <td>15.0</td>\n",
              "      <td>0</td>\n",
              "      <td>126.5</td>\n",
              "      <td>81.963655</td>\n",
              "      <td>0</td>\n",
              "    </tr>\n",
              "    <tr>\n",
              "      <th>4237</th>\n",
              "      <td>0</td>\n",
              "      <td>52</td>\n",
              "      <td>0.0</td>\n",
              "      <td>0</td>\n",
              "      <td>133.5</td>\n",
              "      <td>107.000000</td>\n",
              "      <td>0</td>\n",
              "    </tr>\n",
              "    <tr>\n",
              "      <th>4238</th>\n",
              "      <td>1</td>\n",
              "      <td>40</td>\n",
              "      <td>0.0</td>\n",
              "      <td>0</td>\n",
              "      <td>141.0</td>\n",
              "      <td>72.000000</td>\n",
              "      <td>0</td>\n",
              "    </tr>\n",
              "    <tr>\n",
              "      <th>4239</th>\n",
              "      <td>0</td>\n",
              "      <td>39</td>\n",
              "      <td>30.0</td>\n",
              "      <td>0</td>\n",
              "      <td>133.0</td>\n",
              "      <td>80.000000</td>\n",
              "      <td>0</td>\n",
              "    </tr>\n",
              "  </tbody>\n",
              "</table>\n",
              "<p>4240 rows × 7 columns</p>\n",
              "</div>\n",
              "      <button class=\"colab-df-convert\" onclick=\"convertToInteractive('df-2c2dbf4a-c0a3-478d-823d-e5379600395a')\"\n",
              "              title=\"Convert this dataframe to an interactive table.\"\n",
              "              style=\"display:none;\">\n",
              "        \n",
              "  <svg xmlns=\"http://www.w3.org/2000/svg\" height=\"24px\"viewBox=\"0 0 24 24\"\n",
              "       width=\"24px\">\n",
              "    <path d=\"M0 0h24v24H0V0z\" fill=\"none\"/>\n",
              "    <path d=\"M18.56 5.44l.94 2.06.94-2.06 2.06-.94-2.06-.94-.94-2.06-.94 2.06-2.06.94zm-11 1L8.5 8.5l.94-2.06 2.06-.94-2.06-.94L8.5 2.5l-.94 2.06-2.06.94zm10 10l.94 2.06.94-2.06 2.06-.94-2.06-.94-.94-2.06-.94 2.06-2.06.94z\"/><path d=\"M17.41 7.96l-1.37-1.37c-.4-.4-.92-.59-1.43-.59-.52 0-1.04.2-1.43.59L10.3 9.45l-7.72 7.72c-.78.78-.78 2.05 0 2.83L4 21.41c.39.39.9.59 1.41.59.51 0 1.02-.2 1.41-.59l7.78-7.78 2.81-2.81c.8-.78.8-2.07 0-2.86zM5.41 20L4 18.59l7.72-7.72 1.47 1.35L5.41 20z\"/>\n",
              "  </svg>\n",
              "      </button>\n",
              "      \n",
              "  <style>\n",
              "    .colab-df-container {\n",
              "      display:flex;\n",
              "      flex-wrap:wrap;\n",
              "      gap: 12px;\n",
              "    }\n",
              "\n",
              "    .colab-df-convert {\n",
              "      background-color: #E8F0FE;\n",
              "      border: none;\n",
              "      border-radius: 50%;\n",
              "      cursor: pointer;\n",
              "      display: none;\n",
              "      fill: #1967D2;\n",
              "      height: 32px;\n",
              "      padding: 0 0 0 0;\n",
              "      width: 32px;\n",
              "    }\n",
              "\n",
              "    .colab-df-convert:hover {\n",
              "      background-color: #E2EBFA;\n",
              "      box-shadow: 0px 1px 2px rgba(60, 64, 67, 0.3), 0px 1px 3px 1px rgba(60, 64, 67, 0.15);\n",
              "      fill: #174EA6;\n",
              "    }\n",
              "\n",
              "    [theme=dark] .colab-df-convert {\n",
              "      background-color: #3B4455;\n",
              "      fill: #D2E3FC;\n",
              "    }\n",
              "\n",
              "    [theme=dark] .colab-df-convert:hover {\n",
              "      background-color: #434B5C;\n",
              "      box-shadow: 0px 1px 3px 1px rgba(0, 0, 0, 0.15);\n",
              "      filter: drop-shadow(0px 1px 2px rgba(0, 0, 0, 0.3));\n",
              "      fill: #FFFFFF;\n",
              "    }\n",
              "  </style>\n",
              "\n",
              "      <script>\n",
              "        const buttonEl =\n",
              "          document.querySelector('#df-2c2dbf4a-c0a3-478d-823d-e5379600395a button.colab-df-convert');\n",
              "        buttonEl.style.display =\n",
              "          google.colab.kernel.accessAllowed ? 'block' : 'none';\n",
              "\n",
              "        async function convertToInteractive(key) {\n",
              "          const element = document.querySelector('#df-2c2dbf4a-c0a3-478d-823d-e5379600395a');\n",
              "          const dataTable =\n",
              "            await google.colab.kernel.invokeFunction('convertToInteractive',\n",
              "                                                     [key], {});\n",
              "          if (!dataTable) return;\n",
              "\n",
              "          const docLinkHtml = 'Like what you see? Visit the ' +\n",
              "            '<a target=\"_blank\" href=https://colab.research.google.com/notebooks/data_table.ipynb>data table notebook</a>'\n",
              "            + ' to learn more about interactive tables.';\n",
              "          element.innerHTML = '';\n",
              "          dataTable['output_type'] = 'display_data';\n",
              "          await google.colab.output.renderOutput(dataTable, element);\n",
              "          const docLink = document.createElement('div');\n",
              "          docLink.innerHTML = docLinkHtml;\n",
              "          element.appendChild(docLink);\n",
              "        }\n",
              "      </script>\n",
              "    </div>\n",
              "  </div>\n",
              "  "
            ]
          },
          "metadata": {},
          "execution_count": 32
        }
      ]
    },
    {
      "cell_type": "code",
      "source": [
        "X = new_df.iloc[:, :-1].values\n",
        "y = new_df.iloc[:, -1].values"
      ],
      "metadata": {
        "id": "ks1aXB9iH1GF"
      },
      "id": "ks1aXB9iH1GF",
      "execution_count": null,
      "outputs": []
    },
    {
      "cell_type": "code",
      "source": [
        "from sklearn.model_selection import train_test_split\n",
        "X_train, X_test, y_train, y_test = train_test_split(X, y, test_size = 1/3, random_state = 0)"
      ],
      "metadata": {
        "id": "UQWQwBohH-G-"
      },
      "id": "UQWQwBohH-G-",
      "execution_count": null,
      "outputs": []
    },
    {
      "cell_type": "code",
      "source": [
        "from sklearn.linear_model import LogisticRegression\n",
        "classifier = LogisticRegression(random_state = 0)\n",
        "classifier.fit(X_train, y_train)"
      ],
      "metadata": {
        "id": "8yKnEJ1KILCX",
        "outputId": "fd4089f7-7636-4dc4-e683-1aef6126baa9",
        "colab": {
          "base_uri": "https://localhost:8080/"
        }
      },
      "id": "8yKnEJ1KILCX",
      "execution_count": null,
      "outputs": [
        {
          "output_type": "execute_result",
          "data": {
            "text/plain": [
              "LogisticRegression(random_state=0)"
            ]
          },
          "metadata": {},
          "execution_count": 35
        }
      ]
    },
    {
      "cell_type": "markdown",
      "source": [
        "###Q8a. Create a confusion matrix for y test and y predcted values. Since this is prediction of heart disease which metric should be given more importance - Precision or Recall? Justify."
      ],
      "metadata": {
        "id": "5o18bJF7ajfp"
      },
      "id": "5o18bJF7ajfp"
    },
    {
      "cell_type": "code",
      "source": [
        "y_pred = classifier.predict(X_test)\n",
        "print(np.concatenate((y_pred.reshape(len(y_pred),1), y_test.reshape(len(y_test),1)),1))"
      ],
      "metadata": {
        "colab": {
          "base_uri": "https://localhost:8080/"
        },
        "id": "PCjS3OONJvLF",
        "outputId": "6361c9d4-f338-4e65-b1c7-07078cdd1d7d"
      },
      "id": "PCjS3OONJvLF",
      "execution_count": null,
      "outputs": [
        {
          "output_type": "stream",
          "name": "stdout",
          "text": [
            "[[0 0]\n",
            " [0 0]\n",
            " [0 0]\n",
            " ...\n",
            " [0 0]\n",
            " [0 0]\n",
            " [0 0]]\n"
          ]
        }
      ]
    },
    {
      "cell_type": "code",
      "execution_count": null,
      "id": "af51ede7",
      "metadata": {
        "id": "af51ede7",
        "colab": {
          "base_uri": "https://localhost:8080/"
        },
        "outputId": "6227aea6-b288-4386-a636-4a38028e9e0f"
      },
      "outputs": [
        {
          "output_type": "stream",
          "name": "stdout",
          "text": [
            "[[1196    6]\n",
            " [ 192   20]]\n"
          ]
        }
      ],
      "source": [
        "#Code for confusion matrix\n",
        "from sklearn.metrics import confusion_matrix, accuracy_score\n",
        "cm = confusion_matrix(y_test, y_pred)\n",
        "print(cm)\n"
      ]
    },
    {
      "cell_type": "code",
      "source": [
        "TP=1196\n",
        "FP=6\n",
        "FN=192\n",
        "FP=20\n",
        "\n"
      ],
      "metadata": {
        "id": "v8qWDus4NUFR"
      },
      "id": "v8qWDus4NUFR",
      "execution_count": null,
      "outputs": []
    },
    {
      "cell_type": "markdown",
      "source": [
        "###Q8b. Using the above confusion matrix, how would you find out Accuracy, Precision and Recall values. Calculate them using the formulae which takes into account True Positive, False Positive, True Negative and False Negative values."
      ],
      "metadata": {
        "id": "2zGZNIB8b_-0"
      },
      "id": "2zGZNIB8b_-0"
    },
    {
      "cell_type": "code",
      "source": [
        "accuracy_score(y_test, y_pred)"
      ],
      "metadata": {
        "colab": {
          "base_uri": "https://localhost:8080/"
        },
        "id": "bTif85NjKyii",
        "outputId": "66383642-b588-4711-e577-7071c291a24e"
      },
      "id": "bTif85NjKyii",
      "execution_count": null,
      "outputs": [
        {
          "output_type": "execute_result",
          "data": {
            "text/plain": [
              "0.85997171145686"
            ]
          },
          "metadata": {},
          "execution_count": 40
        }
      ]
    },
    {
      "cell_type": "code",
      "source": [
        "precision=TP / (TP + FP)\n",
        "precision"
      ],
      "metadata": {
        "colab": {
          "base_uri": "https://localhost:8080/"
        },
        "id": "NK4I20cPM5Ew",
        "outputId": "ae4c573f-9362-4580-d775-a3965328d4af"
      },
      "id": "NK4I20cPM5Ew",
      "execution_count": null,
      "outputs": [
        {
          "output_type": "execute_result",
          "data": {
            "text/plain": [
              "0.9835526315789473"
            ]
          },
          "metadata": {},
          "execution_count": 43
        }
      ]
    },
    {
      "cell_type": "code",
      "source": [
        "recall=TP / (TP + FN)\n",
        "recall"
      ],
      "metadata": {
        "colab": {
          "base_uri": "https://localhost:8080/"
        },
        "id": "2bm3SAKlOXfg",
        "outputId": "5e6b0f07-36e0-4492-cd63-d7ced5a3011f"
      },
      "id": "2bm3SAKlOXfg",
      "execution_count": null,
      "outputs": [
        {
          "output_type": "execute_result",
          "data": {
            "text/plain": [
              "0.861671469740634"
            ]
          },
          "metadata": {},
          "execution_count": 44
        }
      ]
    }
  ],
  "metadata": {
    "kernelspec": {
      "display_name": "Python 3",
      "language": "python",
      "name": "python3"
    },
    "language_info": {
      "codemirror_mode": {
        "name": "ipython",
        "version": 3
      },
      "file_extension": ".py",
      "mimetype": "text/x-python",
      "name": "python",
      "nbconvert_exporter": "python",
      "pygments_lexer": "ipython3",
      "version": "3.8.8"
    },
    "colab": {
      "provenance": []
    }
  },
  "nbformat": 4,
  "nbformat_minor": 5
}